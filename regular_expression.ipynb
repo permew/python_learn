{
 "cells": [
  {
   "cell_type": "code",
   "execution_count": null,
   "metadata": {},
   "outputs": [],
   "source": [
    "#RegEx\n",
    "#网页爬虫"
   ]
  },
  {
   "cell_type": "code",
   "execution_count": 2,
   "metadata": {},
   "outputs": [
    {
     "name": "stdout",
     "output_type": "stream",
     "text": [
      "True\n",
      "False\n"
     ]
    }
   ],
   "source": [
    "#简单的匹配\n",
    "# matching string\n",
    "pattern1 = \"miao\"\n",
    "pattern2 = \"zhizhi\"\n",
    "string = \"dog runs to miao\"\n",
    "print(pattern1 in string)    # True\n",
    "print(pattern2 in string)    # False"
   ]
  },
  {
   "cell_type": "code",
   "execution_count": 3,
   "metadata": {},
   "outputs": [
    {
     "name": "stdout",
     "output_type": "stream",
     "text": [
      "<_sre.SRE_Match object; span=(12, 16), match='miao'>\n",
      "None\n"
     ]
    }
   ],
   "source": [
    "#使用正则表达式，需要先impirt re模块\n",
    "import re\n",
    "pattern1 = \"miao\"\n",
    "pattern2 = \"zhizhi\"\n",
    "string = \"dog runs to miao\"\n",
    "print(re.search(pattern1,string))    # 在string中找pattern1\n",
    "print(re.search(pattern2,string))    # 在string中找pattern2\n",
    "#如果 re.search() 找到了结果, 它会返回一个 match 的 object. \n",
    "#如果没有匹配到, 它会返回 None. "
   ]
  },
  {
   "cell_type": "code",
   "execution_count": 4,
   "metadata": {},
   "outputs": [
    {
     "name": "stdout",
     "output_type": "stream",
     "text": [
      "<_sre.SRE_Match object; span=(4, 7), match='run'>\n",
      "<_sre.SRE_Match object; span=(4, 7), match='ran'>\n"
     ]
    }
   ],
   "source": [
    "#灵活匹配\n",
    "#如果需要找到潜在的多个可能性文字, 我们可以使用 [] 将可能的字符囊括进来. \n",
    "#比如 [ab] 就说明我想要找的字符可以是 a 也可以是 b. \n",
    "#这里我们还需要注意的是, 建立一个正则的规则, \n",
    "#我们在 pattern 的 “” 前面需要加上一个 r 用来表示这是正则表达式, 而不是普通字符串. \n",
    "#通过下面这种形式, 如果字符串中出现 “run” 或者是 “ran”, 它都能找到.\n",
    "# multiple patterns (\"run\" or \"ran\")\n",
    "ptn = r\"r[au]n\"       # start with \"r\" means raw string\n",
    "print(re.search(ptn, \"dog runs to cat\"))   \n",
    "print(re.search(ptn,'dog rans to cat'))"
   ]
  },
  {
   "cell_type": "code",
   "execution_count": 5,
   "metadata": {},
   "outputs": [
    {
     "name": "stdout",
     "output_type": "stream",
     "text": [
      "<_sre.SRE_Match object; span=(0, 2), match='a3'>\n"
     ]
    }
   ],
   "source": [
    "#中括号 [] 中还可以是以下这些或者是这些的组合. \n",
    "#比如 [A-Z] 表示的就是所有大写的英文字母. \n",
    "#[0-9a-z] 表示可以是数字也可以是任何小写字母.\n",
    "ptn = r\"[a-z][0-9]\"\n",
    "print(re.search(ptn,\"a3fdf\"))"
   ]
  },
  {
   "cell_type": "code",
   "execution_count": null,
   "metadata": {},
   "outputs": [],
   "source": [
    "#按类型匹配\n",
    "#很多已经定义好的规则\n",
    "#                      \\d : 任何数字\n",
    "#                      \\D : 不是数字\n",
    "#                      \\s : 任何 white space, 如 [\\t\\n\\r\\f\\v]\n",
    "#                      \\S : 不是 white space\n",
    "#                      \\w : 任何大小写字母, 数字和 “” [a-zA-Z0-9]\n",
    "#                      \\W : 不是 \\w\n",
    "#                      \\b : 空白字符 (只在某个字的开头或结尾)\n",
    "#                      \\B : 空白字符 (不在某个字的开头或结尾)\n",
    "#                      \\\\ : 匹配 \\\n",
    "#                       . : 匹配任何字符 (除了 \\n)\n",
    "#                      ^ : 匹配开头\n",
    "#                      $ : 匹配结尾\n",
    "#                       ? : 前面的字符可有可无"
   ]
  },
  {
   "cell_type": "code",
   "execution_count": 6,
   "metadata": {},
   "outputs": [
    {
     "name": "stdout",
     "output_type": "stream",
     "text": [
      "<_sre.SRE_Match object; span=(4, 7), match='r4n'>\n",
      "<_sre.SRE_Match object; span=(0, 3), match='run'>\n",
      "<_sre.SRE_Match object; span=(0, 3), match='r\\nn'>\n",
      "<_sre.SRE_Match object; span=(4, 7), match='r4n'>\n",
      "<_sre.SRE_Match object; span=(4, 7), match='r4n'>\n",
      "<_sre.SRE_Match object; span=(0, 3), match='r\\nn'>\n",
      "<_sre.SRE_Match object; span=(4, 8), match='runs'>\n",
      "<_sre.SRE_Match object; span=(5, 11), match=' runs '>\n",
      "<_sre.SRE_Match object; span=(0, 5), match='runs\\\\'>\n",
      "<_sre.SRE_Match object; span=(0, 3), match='r[n'>\n",
      "<_sre.SRE_Match object; span=(0, 3), match='dog'>\n",
      "<_sre.SRE_Match object; span=(12, 15), match='cat'>\n",
      "<_sre.SRE_Match object; span=(0, 6), match='Monday'>\n",
      "<_sre.SRE_Match object; span=(0, 3), match='Mon'>\n"
     ]
    }
   ],
   "source": [
    "# \\d : decimal digit\n",
    "print(re.search(r\"r\\dn\", \"run r4n\"))           # <_sre.SRE_Match object; span=(4, 7), match='r4n'>\n",
    "# \\D : any non-decimal digit\n",
    "print(re.search(r\"r\\Dn\", \"run r4n\"))           # <_sre.SRE_Match object; span=(0, 3), match='run'>\n",
    "# \\s : any white space [\\t\\n\\r\\f\\v]\n",
    "print(re.search(r\"r\\sn\", \"r\\nn r4n\"))          # <_sre.SRE_Match object; span=(0, 3), match='r\\nn'>\n",
    "# \\S : opposite to \\s, any non-white space\n",
    "print(re.search(r\"r\\Sn\", \"r\\nn r4n\"))          # <_sre.SRE_Match object; span=(4, 7), match='r4n'>\n",
    "# \\w : [a-zA-Z0-9_]\n",
    "print(re.search(r\"r\\wn\", \"r\\nn r4n\"))          # <_sre.SRE_Match object; span=(4, 7), match='r4n'>\n",
    "# \\W : opposite to \\w\n",
    "print(re.search(r\"r\\Wn\", \"r\\nn r4n\"))          # <_sre.SRE_Match object; span=(0, 3), match='r\\nn'>\n",
    "# \\b : empty string (only at the start or end of the word)\n",
    "print(re.search(r\"\\bruns\\b\", \"dog runs to cat\"))    # <_sre.SRE_Match object; span=(4, 8), match='runs'>\n",
    "# \\B : empty string (but not at the start or end of a word)\n",
    "print(re.search(r\"\\B runs \\B\", \"dog   runs  to cat\"))  # <_sre.SRE_Match object; span=(8, 14), match=' runs '>\n",
    "# \\\\ : match \\\n",
    "print(re.search(r\"runs\\\\\", \"runs\\ to me\"))     # <_sre.SRE_Match object; span=(0, 5), match='runs\\\\'>\n",
    "# . : match anything (except \\n)\n",
    "print(re.search(r\"r.n\", \"r[ns to me\"))         # <_sre.SRE_Match object; span=(0, 3), match='r[n'>\n",
    "# ^ : match line beginning\n",
    "print(re.search(r\"^dog\", \"dog runs to cat\"))   # <_sre.SRE_Match object; span=(0, 3), match='dog'>\n",
    "# $ : match line ending\n",
    "print(re.search(r\"cat$\", \"dog runs to cat\"))   # <_sre.SRE_Match object; span=(12, 15), match='cat'>\n",
    "# ? : may or may not occur\n",
    "print(re.search(r\"Mon(day)?\", \"Monday\"))       # <_sre.SRE_Match object; span=(0, 6), match='Monday'>\n",
    "print(re.search(r\"Mon(day)?\", \"Mon\"))          # <_sre.SRE_Match object; span=(0, 3), match='Mon'>"
   ]
  },
  {
   "cell_type": "code",
   "execution_count": 8,
   "metadata": {},
   "outputs": [
    {
     "name": "stdout",
     "output_type": "stream",
     "text": [
      "None\n",
      "<_sre.SRE_Match object; span=(18, 19), match='I'>\n"
     ]
    }
   ],
   "source": [
    "string = \"\"\"\n",
    "dog runs to cat.\n",
    "I run to dog.\n",
    "\"\"\"\n",
    "print(re.search(r\"^I\", string))                 # None\n",
    "#flags=re.M 可以多行搜索\n",
    "print(re.search(r\"^I\", string, flags=re.M))     # <_sre.SRE_Match object; span=(18, 19), match='I'>"
   ]
  },
  {
   "cell_type": "code",
   "execution_count": null,
   "metadata": {},
   "outputs": [],
   "source": [
    "#重复匹配\n",
    "#               * : 重复零次或多次\n",
    "#               + : 重复一次或多次\n",
    "#               {n, m} : 重复 n 至 m 次\n",
    "#               {n} : 重复 n 次"
   ]
  },
  {
   "cell_type": "code",
   "execution_count": null,
   "metadata": {},
   "outputs": [],
   "source": [
    "# * : occur 0 or more times\n",
    "print(re.search(r\"ab*\", \"a\"))             # <_sre.SRE_Match object; span=(0, 1), match='a'>\n",
    "print(re.search(r\"ab*\", \"abbbbb\"))        # <_sre.SRE_Match object; span=(0, 6), match='abbbbb'>\n",
    "\n",
    "# + : occur 1 or more times\n",
    "print(re.search(r\"ab+\", \"a\"))             # None\n",
    "print(re.search(r\"ab+\", \"abbbbb\"))        # <_sre.SRE_Match object; span=(0, 6), match='abbbbb'>\n",
    "\n",
    "# {n, m} : occur n to m times\n",
    "print(re.search(r\"ab{2,10}\", \"a\"))        # None\n",
    "print(re.search(r\"ab{2,10}\", \"abbbbb\"))   # <_sre.SRE_Match object; span=(0, 6), match='abbbbb'>"
   ]
  },
  {
   "cell_type": "code",
   "execution_count": null,
   "metadata": {},
   "outputs": [],
   "source": [
    "#分组\n",
    "#我们甚至可以为找到的内容分组, 使用 () 能轻松实现这件事. \n",
    "#通过分组, 我们能轻松定位所找到的内容. \n",
    "#比如在这个 (\\d+) 组里, 需要找到的是一些数字, \n",
    "#在 (.+) 这个组里, 我们会找到 “Date: “ 后面的所有内容. \n",
    "#当使用 match.group() 时, 他会返回所有组里的内容, \n",
    "#而如果给 .group(2) 里加一个数, 它就能定位你需要返回哪个组里的信息."
   ]
  },
  {
   "cell_type": "code",
   "execution_count": 9,
   "metadata": {},
   "outputs": [
    {
     "name": "stdout",
     "output_type": "stream",
     "text": [
      "021523\n",
      "Feb/12/2017\n"
     ]
    }
   ],
   "source": [
    "match = re.search(r\"(\\d+), Date: (.+)\", \"ID: 021523, Date: Feb/12/2017\")\n",
    "#match 是一个re匹配结果的对象\n",
    "\n",
    "print(match.group(1))\n",
    "#匹配id的组\n",
    "\n",
    "print(match.group(2))\n",
    "#匹配日期的那个组"
   ]
  },
  {
   "cell_type": "code",
   "execution_count": 10,
   "metadata": {},
   "outputs": [
    {
     "name": "stdout",
     "output_type": "stream",
     "text": [
      "021523\n",
      "Feb/12/2017\n"
     ]
    }
   ],
   "source": [
    "# 给组命名    ?P<名字>\n",
    "match = re.search(r\"(?P<id>\\d+), Date: (?P<date>.+)\", \"ID: 021523, Date: Feb/12/2017\")\n",
    "print(match.group('id'))                # 021523\n",
    "print(match.group('date'))              # Date: Feb/12/2017"
   ]
  },
  {
   "cell_type": "code",
   "execution_count": 11,
   "metadata": {},
   "outputs": [
    {
     "name": "stdout",
     "output_type": "stream",
     "text": [
      "['run', 'ran']\n",
      "['run', 'ran']\n"
     ]
    }
   ],
   "source": [
    "#findall\n",
    "#找到全部的匹配项\n",
    "# findall\n",
    "print(re.findall(r\"r[ua]n\", \"run ran ren\"))    # ['run', 'ran']\n",
    "\n",
    "# | : or\n",
    "print(re.findall(r\"(run|ran)\", \"run ran ren\")) # ['run', 'ran']"
   ]
  },
  {
   "cell_type": "code",
   "execution_count": 13,
   "metadata": {},
   "outputs": [
    {
     "name": "stdout",
     "output_type": "stream",
     "text": [
      "dog catches to cat\n"
     ]
    }
   ],
   "source": [
    "#re.sub()\n",
    "#我们还能通过正则表达式匹配上一些形式的字符串然后再替代掉这些字符串. \n",
    "#使用这种匹配 re.sub(), 将会比 python 自带的 string.replace() 要灵活多变.\n",
    "print(re.sub(r\"r[au]ns\", \"catches\", \"dog runs to cat\"))     # dog catches to cat\n",
    "#用catches代替runs或rans"
   ]
  },
  {
   "cell_type": "code",
   "execution_count": 15,
   "metadata": {},
   "outputs": [
    {
     "name": "stdout",
     "output_type": "stream",
     "text": [
      "['a', 'b', 'c', 'd', 'e']\n",
      "['a', 'b', 'c', 'd', 'e']\n"
     ]
    }
   ],
   "source": [
    "#split\n",
    "#字符串分割\n",
    "print(re.split(r\"[,;\\.]\", \"a;b,c.d;e\")) \n",
    "a = re.split(r\"[,;\\.]\",\"a;b,c.d;e\")\n",
    "print(a)"
   ]
  },
  {
   "cell_type": "code",
   "execution_count": 18,
   "metadata": {},
   "outputs": [
    {
     "name": "stdout",
     "output_type": "stream",
     "text": [
      "<_sre.SRE_Match object; span=(4, 7), match='ran'>\n"
     ]
    }
   ],
   "source": [
    "# compile后的正则，保存正则表达式，继续使用\n",
    "compiled_re = re.compile(r\"r[ua]n\")\n",
    "print(compiled_re.search(\"dog ran to cat\"))  \n",
    "# <_sre.SRE_Match object; span=(4, 7), match='ran'>"
   ]
  },
  {
   "cell_type": "code",
   "execution_count": null,
   "metadata": {},
   "outputs": [],
   "source": []
  }
 ],
 "metadata": {
  "kernelspec": {
   "display_name": "Python 3",
   "language": "python",
   "name": "python3"
  },
  "language_info": {
   "codemirror_mode": {
    "name": "ipython",
    "version": 3
   },
   "file_extension": ".py",
   "mimetype": "text/x-python",
   "name": "python",
   "nbconvert_exporter": "python",
   "pygments_lexer": "ipython3",
   "version": "3.6.4"
  }
 },
 "nbformat": 4,
 "nbformat_minor": 2
}
