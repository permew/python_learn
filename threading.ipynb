{
 "cells": [
  {
   "cell_type": "code",
   "execution_count": null,
   "metadata": {},
   "outputs": [],
   "source": [
    "#添加线程"
   ]
  },
  {
   "cell_type": "code",
   "execution_count": 2,
   "metadata": {},
   "outputs": [
    {
     "data": {
      "text/plain": [
       "5"
      ]
     },
     "execution_count": 2,
     "metadata": {},
     "output_type": "execute_result"
    }
   ],
   "source": [
    "#导入线程模块\n",
    "import threading\n",
    "#获取已激活的线程数\n",
    "threading.active_count()"
   ]
  },
  {
   "cell_type": "code",
   "execution_count": 3,
   "metadata": {},
   "outputs": [
    {
     "data": {
      "text/plain": [
       "[<_MainThread(MainThread, started 140735489397632)>,\n",
       " <Thread(Thread-2, started daemon 123145498791936)>,\n",
       " <Heartbeat(Thread-3, started daemon 123145504047104)>,\n",
       " <HistorySavingThread(IPythonHistorySavingThread, started 123145510375424)>,\n",
       " <ParentPollerUnix(Thread-1, started daemon 123145515630592)>]"
      ]
     },
     "execution_count": 3,
     "metadata": {},
     "output_type": "execute_result"
    }
   ],
   "source": [
    "threading.enumerate()"
   ]
  },
  {
   "cell_type": "code",
   "execution_count": 4,
   "metadata": {},
   "outputs": [
    {
     "name": "stdout",
     "output_type": "stream",
     "text": [
      "This is a thread of <Thread(Thread-4, started 123145520885760)>\n"
     ]
    }
   ],
   "source": [
    "#添加线程\n",
    "#threading.Thread()接收参数\n",
    "#target代表这个线程要完成的任务，需自行定义\n",
    "def thread_job():\n",
    "    print('This is a thread of %s' % threading.current_thread())\n",
    "\n",
    "def main():\n",
    "    thread = threading.Thread(target=thread_job,)   # 定义线程 \n",
    "    thread.start()  # 让线程开始工作\n",
    "    \n",
    "if __name__ == '__main__':\n",
    "    main()"
   ]
  },
  {
   "cell_type": "code",
   "execution_count": 5,
   "metadata": {},
   "outputs": [
    {
     "name": "stdout",
     "output_type": "stream",
     "text": [
      "<Thread(Thread-5, started 123145520885760)>\n"
     ]
    }
   ],
   "source": [
    "def thread_a():\n",
    "    print(threading.current_thread())\n",
    "thread=threading.Thread(target = thread_a,)\n",
    "thread.start()"
   ]
  },
  {
   "cell_type": "code",
   "execution_count": 12,
   "metadata": {},
   "outputs": [],
   "source": [
    "#join功能\n",
    "#不加join的结果\n",
    "import threading\n",
    "import time\n",
    "def thread_job():\n",
    "    print(\"T1 start\\n\")\n",
    "    for i in range(10):\n",
    "        time.sleep(0.1)#任务间隔0.1s\n",
    "    print(\"T1 finish\")\n",
    "added_thread = threading.Thread(target=thread_job, name='T1')\n",
    "#added_thread.start()\n",
    "#print(\"all_done\\n\")\n"
   ]
  },
  {
   "cell_type": "code",
   "execution_count": 13,
   "metadata": {},
   "outputs": [
    {
     "name": "stdout",
     "output_type": "stream",
     "text": [
      "T1 start\n",
      "\n",
      "T1 finish\n",
      "all done\n",
      "\n"
     ]
    }
   ],
   "source": [
    "#使用join，等待线程结束，再输出\n",
    "added_thread.start()\n",
    "added_thread.join()\n",
    "print(\"all done\\n\")"
   ]
  },
  {
   "cell_type": "code",
   "execution_count": 15,
   "metadata": {},
   "outputs": [
    {
     "name": "stdout",
     "output_type": "stream",
     "text": [
      "T1 start\n",
      "\n",
      "T1 finish\n",
      "\n",
      "T2 start\n",
      "\n",
      "T2 finish\n",
      "\n",
      "all done\n",
      "\n"
     ]
    }
   ],
   "source": [
    "#使用join对控制多个线程的执行顺序非常关键。\n",
    "#举个例子，假设我们现在再加一个线程T2，T2的任务量较小，会比T1更快完成：\n",
    "def T1_job():\n",
    "    print(\"T1 start\\n\")\n",
    "    for i in range(10):\n",
    "        time.sleep(0.1)\n",
    "    print(\"T1 finish\\n\")\n",
    "\n",
    "def T2_job():\n",
    "    print(\"T2 start\\n\")\n",
    "    print(\"T2 finish\\n\")\n",
    "\n",
    "thread_1 = threading.Thread(target=T1_job, name='T1')\n",
    "thread_2 = threading.Thread(target=T2_job, name='T2')\n",
    "thread_1.start() # 开启T1\n",
    "thread_1.join()#!!!!\n",
    "thread_2.start() # 开启T2\n",
    "thread_2.join()#!!!!!\n",
    "print(\"all done\\n\")"
   ]
  },
  {
   "cell_type": "code",
   "execution_count": null,
   "metadata": {},
   "outputs": [],
   "source": [
    "#将数据列表中的数据传入，\n",
    "#使用四个线程处理，将结果保存在Queue中，\n",
    "#线程执行完后，从Queue中获取存储的结果"
   ]
  },
  {
   "cell_type": "code",
   "execution_count": null,
   "metadata": {},
   "outputs": [],
   "source": []
  },
  {
   "cell_type": "code",
   "execution_count": null,
   "metadata": {},
   "outputs": [],
   "source": [
    "#定义一个被多线程调用的函数\n",
    "#函数的参数是一个列表l和一个队列q，\n",
    "#函数的功能是，对列表的每个元素进行平方计算，将结果保存在队列中"
   ]
  },
  {
   "cell_type": "code",
   "execution_count": 19,
   "metadata": {},
   "outputs": [
    {
     "name": "stdout",
     "output_type": "stream",
     "text": [
      "[[1, 4, 9], [9, 16, 25], [16, 16, 16], [25, 25, 25]]\n"
     ]
    }
   ],
   "source": [
    "#导入线程、队列相应的模块\n",
    "import threading\n",
    "import time\n",
    "from queue import Queue\n",
    "#Queue是queue的Object\n",
    "#首字母大写的都是Object  例如Queue、Thread\n",
    "def job(l,q):\n",
    "    for i in range (len(l)):\n",
    "        l[i] = l[i]**2\n",
    "    q.put(l)   #多线程调用的函数不能用return返回值 !!!!\n",
    "    #q是一个队列。传入的队列。\n",
    "    \n",
    "#定义一个多线程函数\n",
    "#在多线程函数中定义一个Queue，用来保存返回值，代替return，\n",
    "#定义一个多线程列表，初始化一个多维数据列表，用来处理：\n",
    "def multithreading():\n",
    "    q = Queue()    #q中存放返回值，代替return的返回值\n",
    "    threads = []\n",
    "    \n",
    "    data = [[1,2,3],[3,4,5],[4,4,4],[5,5,5]]\n",
    "    #data 是一个含有4个小列表的列表\n",
    "    \n",
    "    #在多线程函数中定义四个线程，启动线程，将每个线程添加到多线程的列表中\n",
    "    for i in range(4):\n",
    "        t = threading.Thread(target=job,args=(data[i],q))\n",
    "         #Thread首字母要大写，被调用的job函数没有括号，只是一个索引，参数在后面\n",
    "        t.start()\n",
    "        threads.append(t)\n",
    "        #把每个线程append到线程列表中\n",
    "            \n",
    "    #分别join四个线程到主线程\n",
    "    for thread in threads:\n",
    "        thread.join()    \n",
    "    #定义一个空的列表results，将四个线运行后保存在队列中的结果返回给空列表results\n",
    "    results = []\n",
    "    for _ in range(4):\n",
    "        results.append(q.get())  #q.get()按顺序从q中拿出一个值\n",
    "    print(results)\n",
    "\n",
    "if __name__ == '__main__':\n",
    "    multithreading()"
   ]
  },
  {
   "cell_type": "code",
   "execution_count": 20,
   "metadata": {},
   "outputs": [
    {
     "name": "stdout",
     "output_type": "stream",
     "text": [
      "1999998000000\n",
      "normal:  0.11816287040710449\n",
      "1999998000000\n",
      "multithreading:  0.10081195831298828\n"
     ]
    }
   ],
   "source": [
    "import threading\n",
    "from queue import Queue\n",
    "import copy\n",
    "import time\n",
    "\n",
    "def job(l, q):\n",
    "    res = sum(l)\n",
    "    q.put(res)\n",
    "\n",
    "def multithreading(l):\n",
    "    q = Queue()\n",
    "    threads = []\n",
    "    for i in range(4):\n",
    "        t = threading.Thread(target=job, args=(copy.copy(l), q), name='T%i' % i)\n",
    "        t.start()\n",
    "        threads.append(t)\n",
    "    [t.join() for t in threads]\n",
    "    total = 0\n",
    "    for _ in range(4):\n",
    "        total += q.get()\n",
    "    print(total)\n",
    "\n",
    "def normal(l):\n",
    "    total = sum(l)\n",
    "    print(total)\n",
    "\n",
    "if __name__ == '__main__':\n",
    "    l = list(range(1000000))\n",
    "    s_t = time.time()\n",
    "    normal(l*4)\n",
    "    print('normal: ',time.time()-s_t)\n",
    "    s_t = time.time()\n",
    "    multithreading(l)\n",
    "    print('multithreading: ', time.time()-s_t\n",
    "          \n",
    "#同时只有一个线程工作，其实只是减少了读写的时间\n",
    "#多线程不一定会高效          \n",
    "#使用多核运算，多进程？\n"
   ]
  },
  {
   "cell_type": "code",
   "execution_count": 21,
   "metadata": {},
   "outputs": [
    {
     "data": {
      "text/plain": [
       "range(0, 100)"
      ]
     },
     "execution_count": 21,
     "metadata": {},
     "output_type": "execute_result"
    }
   ],
   "source": [
    "range(100)"
   ]
  },
  {
   "cell_type": "code",
   "execution_count": 26,
   "metadata": {},
   "outputs": [
    {
     "name": "stdout",
     "output_type": "stream",
     "text": [
      "job1 1job2 11\n",
      "job2 21\n",
      "job2 31\n",
      "job2 41\n",
      "job2 51\n",
      "job2 61\n",
      "job2 71\n",
      "job2 81\n",
      "job2 91\n",
      "\n",
      "job2 101\n",
      "job1 102\n",
      "job1 103\n",
      "job1 104\n",
      "job1 105\n",
      "job1 106\n",
      "job1 107\n",
      "job1 108\n",
      "job1 109\n",
      "job1 110\n"
     ]
    }
   ],
   "source": [
    "import threading \n",
    "def job1():\n",
    "    global A\n",
    "    for i in range(10):\n",
    "        A+=1\n",
    "        print(\"job1\",A)\n",
    "\n",
    "def job2():\n",
    "    global A\n",
    "    for i in range(10):\n",
    "        A += 10\n",
    "        print(\"job2\",A)\n",
    "\n",
    "#主函数定义两个线程\n",
    "if __name__ == '__main__':\n",
    "    A = 0\n",
    "    t1 = threading.Thread(target = job1)\n",
    "    t2 = threading.Thread(target = job2)\n",
    "    t1.start()\n",
    "    t2.start()\n",
    "    t1.join()\n",
    "    t2.join()\n",
    "#很混乱"
   ]
  },
  {
   "cell_type": "code",
   "execution_count": 27,
   "metadata": {},
   "outputs": [
    {
     "name": "stdout",
     "output_type": "stream",
     "text": [
      "job1 1\n",
      "job1 2\n",
      "job1 3\n",
      "job1 4\n",
      "job1 5\n",
      "job1 6\n",
      "job1 7\n",
      "job1 8\n",
      "job1 9\n",
      "job1 10\n",
      "job2 20\n",
      "job2 30\n",
      "job2 40\n",
      "job2 50\n",
      "job2 60\n",
      "job2 70\n",
      "job2 80\n",
      "job2 90\n",
      "job2 100\n",
      "job2 110\n"
     ]
    }
   ],
   "source": [
    "#使用LOCK\n",
    "#lock在不同线程使用同一共享内存时，能够确保线程之间互不影响，\n",
    "#使用lock的方法是， 在每个线程执行运算修改共享内存之前，\n",
    "#执行lock.acquire()将共享内存上锁， 确保当前线程执行时，内存不会被其他线程访问，执行运算完毕后，使用lock.release()将锁打开， 保证其他的线程可以使用该共享内存。\n",
    "def job1():\n",
    "    global A,lock\n",
    "    lock.acquire()#!!!!!!\n",
    "    for i in range(10):\n",
    "        A+=1\n",
    "        print('job1',A)\n",
    "    lock.release()\n",
    "\n",
    "def job2():\n",
    "    global A,lock\n",
    "    lock.acquire()#!!!!!!!\n",
    "    for i in range(10):\n",
    "        A+=10\n",
    "        print('job2',A)\n",
    "    lock.release()\n",
    "if __name__== '__main__':\n",
    "    lock=threading.Lock()\n",
    "    A=0\n",
    "    t1=threading.Thread(target=job1)\n",
    "    t2=threading.Thread(target=job2)\n",
    "    t1.start()\n",
    "    t2.start()\n",
    "    t1.join()\n",
    "    t2.join()"
   ]
  },
  {
   "cell_type": "code",
   "execution_count": null,
   "metadata": {},
   "outputs": [],
   "source": []
  }
 ],
 "metadata": {
  "kernelspec": {
   "display_name": "Python 3",
   "language": "python",
   "name": "python3"
  },
  "language_info": {
   "codemirror_mode": {
    "name": "ipython",
    "version": 3
   },
   "file_extension": ".py",
   "mimetype": "text/x-python",
   "name": "python",
   "nbconvert_exporter": "python",
   "pygments_lexer": "ipython3",
   "version": "3.6.4"
  }
 },
 "nbformat": 4,
 "nbformat_minor": 2
}
