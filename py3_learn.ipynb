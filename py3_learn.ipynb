{
 "cells": [
  {
   "cell_type": "code",
   "execution_count": 4,
   "metadata": {},
   "outputs": [
    {
     "data": {
      "text/plain": [
       "8"
      ]
     },
     "execution_count": 4,
     "metadata": {},
     "output_type": "execute_result"
    }
   ],
   "source": [
    "2**3  #** 在python3中是幂,#是注释"
   ]
  },
  {
   "cell_type": "code",
   "execution_count": 8,
   "metadata": {},
   "outputs": [
    {
     "name": "stdout",
     "output_type": "stream",
     "text": [
      "hehe\n",
      "2333\n"
     ]
    }
   ],
   "source": [
    "a = \"hehe\"  #单双引号都可以字符串\n",
    "b = '2333'\n",
    "print(a)\n",
    "print(b)"
   ]
  },
  {
   "cell_type": "code",
   "execution_count": 9,
   "metadata": {},
   "outputs": [
    {
     "name": "stdout",
     "output_type": "stream",
     "text": [
      "hehe 2333\n"
     ]
    }
   ],
   "source": [
    "print(a,b)   #输出多个字符串"
   ]
  },
  {
   "cell_type": "code",
   "execution_count": 17,
   "metadata": {},
   "outputs": [
    {
     "name": "stdout",
     "output_type": "stream",
     "text": [
      "2\n",
      "3\n",
      "4\n",
      "5\n",
      "6\n",
      "7\n",
      "8\n",
      "9\n",
      "10\n"
     ]
    }
   ],
   "source": [
    "miao = 2\n",
    "while miao < 10:\n",
    "    print(miao)\n",
    "    miao = miao + 1  #：和缩进代替花括号\n",
    "print(miao)"
   ]
  },
  {
   "cell_type": "code",
   "execution_count": 18,
   "metadata": {},
   "outputs": [
    {
     "name": "stdout",
     "output_type": "stream",
     "text": [
      "1\n",
      "2\n",
      "3\n",
      "4\n",
      "5\n",
      "6\n",
      "7\n"
     ]
    }
   ],
   "source": [
    "a_list = [1,2,3,4,5,6,7]\n",
    "for i in a_list:\n",
    "    print(i)"
   ]
  },
  {
   "cell_type": "code",
   "execution_count": 21,
   "metadata": {},
   "outputs": [
    {
     "name": "stdout",
     "output_type": "stream",
     "text": [
      "1\n",
      "2\n",
      "3\n",
      "0\n",
      "1\n",
      "2\n",
      "3\n",
      "1\n",
      "3\n",
      "5\n",
      "7\n",
      "9\n"
     ]
    }
   ],
   "source": [
    "#range range(start,stop) range(stop) 0-stop range(start,stop,step)步长\n",
    "for i in range(1,4):\n",
    "    print(i)\n",
    "for i in range(4):\n",
    "    print(i)\n",
    "for i in range(1,10,2):\n",
    "    print(i)\n"
   ]
  },
  {
   "cell_type": "code",
   "execution_count": 24,
   "metadata": {},
   "outputs": [
    {
     "name": "stdout",
     "output_type": "stream",
     "text": [
      "1\n",
      "43\n",
      "23\n"
     ]
    }
   ],
   "source": [
    "#内置集合,list、tuple、dic、set（去重）\n",
    "a_list = [1,2,3]\n",
    "b_tuple = (1,2,3)\n",
    "c_dic = {1:2,2:\"3\"}\n",
    "d_set = set([1,23,43,1])\n",
    "for i in d_set:\n",
    "    print(i)"
   ]
  },
  {
   "cell_type": "code",
   "execution_count": 26,
   "metadata": {},
   "outputs": [
    {
     "name": "stdout",
     "output_type": "stream",
     "text": [
      "2\n"
     ]
    }
   ],
   "source": [
    "#迭代器\n",
    "class miaowu(object):#define class miaowu\n",
    "    def __init__(self, max):\n",
    "        self.max = max\n",
    "        self.a = 1\n",
    "        self.b = 2\n",
    "        self.n = 3\n",
    "    def __iter__(self):\n",
    "        return self\n",
    "    \n",
    "    def __next__(self):\n",
    "        if self.n <= self.max:\n",
    "            r = self.b\n",
    "            self.a, self.b = self.b, self.a + self.b\n",
    "            self.n = self.n + 1\n",
    "            return r\n",
    "        raise StopIteration()\n",
    "for i in miaowu(3):\n",
    "    print(i)"
   ]
  },
  {
   "cell_type": "code",
   "execution_count": 27,
   "metadata": {},
   "outputs": [
    {
     "name": "stdout",
     "output_type": "stream",
     "text": [
      "1\n",
      "1\n",
      "2\n",
      "3\n",
      "5\n"
     ]
    }
   ],
   "source": [
    "def fib(max):\n",
    "    a,b = 0,1\n",
    "    while max:\n",
    "        r = b\n",
    "        a,b = b,a+b\n",
    "        max -= 1\n",
    "        yield r\n",
    "        \n",
    "for i in fib(5):\n",
    "    print(i)"
   ]
  },
  {
   "cell_type": "code",
   "execution_count": 31,
   "metadata": {},
   "outputs": [
    {
     "name": "stdout",
     "output_type": "stream",
     "text": [
      "haha\n"
     ]
    }
   ],
   "source": [
    "#if的用法\n",
    "a = 1\n",
    "b = 1.0\n",
    "if b == a:\n",
    "    print('haha')"
   ]
  },
  {
   "cell_type": "code",
   "execution_count": 32,
   "metadata": {},
   "outputs": [
    {
     "name": "stdout",
     "output_type": "stream",
     "text": [
      "1\n"
     ]
    }
   ],
   "source": [
    "#if elif else\n",
    "a = 1\n",
    "b = 2\n",
    "c = 3\n",
    "d = 1\n",
    "if a == b:\n",
    "    print(\"haha\")\n",
    "elif a== c:   #是elif\n",
    "    print(1)\n",
    "elif c == d:\n",
    "    print(2)\n",
    "else:\n",
    "    print (1)"
   ]
  },
  {
   "cell_type": "code",
   "execution_count": 33,
   "metadata": {},
   "outputs": [
    {
     "name": "stdout",
     "output_type": "stream",
     "text": [
      "1\n"
     ]
    }
   ],
   "source": [
    "#函数\n",
    "def hah(miao):\n",
    "    print(miao)\n",
    "hah(1)"
   ]
  },
  {
   "cell_type": "code",
   "execution_count": 34,
   "metadata": {},
   "outputs": [
    {
     "name": "stdout",
     "output_type": "stream",
     "text": [
      "2\n"
     ]
    }
   ],
   "source": [
    "def ha(max):\n",
    "    return max\n",
    "a = ha(2)\n",
    "print(a)"
   ]
  },
  {
   "cell_type": "code",
   "execution_count": 35,
   "metadata": {},
   "outputs": [
    {
     "name": "stdout",
     "output_type": "stream",
     "text": [
      "3\n"
     ]
    }
   ],
   "source": [
    "def ha(a, b):\n",
    "    c = a+b\n",
    "    print(c)\n",
    "ha(1,2)"
   ]
  },
  {
   "cell_type": "code",
   "execution_count": 36,
   "metadata": {},
   "outputs": [
    {
     "name": "stdout",
     "output_type": "stream",
     "text": [
      "hehe\n",
      "1\n",
      "2\n",
      "3\n",
      "4\n"
     ]
    }
   ],
   "source": [
    "#可变参数，使用*标识\n",
    "#注意可变参数在函数定义不能出现在特定参数和默认参数前面，因为可变参数会吞噬掉这些参数\n",
    "def miao(name, *grades):\n",
    "    print(name)\n",
    "    for grade in grades:\n",
    "        print(grade)\n",
    "miao(\"hehe\",1,2,3,4)\n"
   ]
  },
  {
   "cell_type": "code",
   "execution_count": 43,
   "metadata": {},
   "outputs": [
    {
     "name": "stdout",
     "output_type": "stream",
     "text": [
      "me\n",
      "b 98\n",
      "a 90\n"
     ]
    }
   ],
   "source": [
    "#关键字参数，词典**标识\n",
    "def miao(name, **kw):\n",
    "    print(name)\n",
    "    for k,v in kw.items():\n",
    "        print(k,v)\n",
    "miao(\"me\",b=98,a=90)\n"
   ]
  },
  {
   "cell_type": "code",
   "execution_count": 45,
   "metadata": {},
   "outputs": [
    {
     "name": "stdout",
     "output_type": "stream",
     "text": [
      "10\n"
     ]
    }
   ],
   "source": [
    "a = 10\n",
    "def fun():\n",
    "    global a   #global用于声明外部变量\n",
    "    print(a)\n",
    "fun()"
   ]
  },
  {
   "cell_type": "code",
   "execution_count": 46,
   "metadata": {},
   "outputs": [],
   "source": [
    "import numpy as np\n",
    "import tensorflow as tf"
   ]
  },
  {
   "cell_type": "code",
   "execution_count": 54,
   "metadata": {},
   "outputs": [
    {
     "name": "stdout",
     "output_type": "stream",
     "text": [
      "hahahah\n"
     ]
    }
   ],
   "source": [
    "my_file = open(\"my.txt\",'w')#打开文件\n",
    "miao = 'hahahah'\n",
    "my_file.write(miao)#读入文件\n",
    "my_file.close()\n",
    "my_file = open(\"my.txt\",'r')\n",
    "m = my_file.read()\n",
    "print(m)"
   ]
  },
  {
   "cell_type": "code",
   "execution_count": 56,
   "metadata": {},
   "outputs": [
    {
     "name": "stdout",
     "output_type": "stream",
     "text": [
      "\thaha\n",
      "\thhhh\n",
      "\thh\n"
     ]
    }
   ],
   "source": [
    "text = '\\thaha\\n\\thhhh\\n\\thh'#\\t对齐\n",
    "print(text)"
   ]
  },
  {
   "cell_type": "code",
   "execution_count": 57,
   "metadata": {},
   "outputs": [
    {
     "data": {
      "text/plain": [
       "6"
      ]
     },
     "execution_count": 57,
     "metadata": {},
     "output_type": "execute_result"
    }
   ],
   "source": [
    "my_file=open(\"my.txt\",'a')#追加的方式打开\n",
    "my_file.write(\"xiaoxi\")\n"
   ]
  },
  {
   "cell_type": "code",
   "execution_count": 58,
   "metadata": {},
   "outputs": [],
   "source": [
    "my_file=open(\"my.txt\",'a')\n",
    "my_file.write(\"xiaoxi\")\n",
    "my_file.close()"
   ]
  },
  {
   "cell_type": "code",
   "execution_count": 63,
   "metadata": {},
   "outputs": [
    {
     "name": "stdout",
     "output_type": "stream",
     "text": [
      "['hahahahxiaoxixiaoxi]\\n', '3344\\n', 'ewrwr\\n', 'erwewe\\n', 'sdfsd\\n', 'f']\n"
     ]
    }
   ],
   "source": [
    "my_file = open('my.txt','r')\n",
    "miao = my_file.readlines()\n",
    "print(miao)\n",
    "my_file.close()"
   ]
  },
  {
   "cell_type": "code",
   "execution_count": 61,
   "metadata": {},
   "outputs": [
    {
     "name": "stdout",
     "output_type": "stream",
     "text": [
      "hahahahxiaoxixiaoxi]\n",
      "\n",
      "3344\n",
      "\n",
      "ewrwr\n",
      "\n",
      "erwewe\n",
      "\n",
      "sdfsd\n",
      "\n",
      "f\n"
     ]
    }
   ],
   "source": [
    "for x in miao:#对它迭代\n",
    "    print(x)"
   ]
  },
  {
   "cell_type": "code",
   "execution_count": 69,
   "metadata": {},
   "outputs": [
    {
     "name": "stdout",
     "output_type": "stream",
     "text": [
      "miaowu beauty\n",
      "hehe beauty\n"
     ]
    }
   ],
   "source": [
    "#类\n",
    "class Xiaoxi:\n",
    "    name = \"xiaoximiao\"\n",
    "    def __init__(self,name=\"hehe\"):#类的初始化函数\n",
    "        self.name = name\n",
    "    def beauty(self):#类的成员函数一定要传self\n",
    "        print(self.name,'beauty')\n",
    "xiaoxi1 = Xiaoxi(\"miaowu\")\n",
    "xiaoxi2 = Xiaoxi()\n",
    "xiaoxi1.beauty()\n",
    "xiaoxi2.beauty()"
   ]
  },
  {
   "cell_type": "code",
   "execution_count": 70,
   "metadata": {},
   "outputs": [
    {
     "name": "stdout",
     "output_type": "stream",
     "text": [
      "1\n"
     ]
    }
   ],
   "source": [
    "#input\n",
    "miaowu = int (input('input an integer: '))\n",
    "print(miaowu)"
   ]
  },
  {
   "cell_type": "code",
   "execution_count": 71,
   "metadata": {},
   "outputs": [
    {
     "name": "stdout",
     "output_type": "stream",
     "text": [
      "1\n",
      "2\n",
      "3\n",
      "4\n"
     ]
    }
   ],
   "source": [
    "#元组：叫做 tuple，用小括号、或者无括号来表述，是一连串有顺序的数字。\n",
    "xiaoxi_tuple = (1,2,3,4)\n",
    "for i in xiaoxi_tuple:\n",
    "    print(i)"
   ]
  },
  {
   "cell_type": "code",
   "execution_count": 74,
   "metadata": {},
   "outputs": [
    {
     "name": "stdout",
     "output_type": "stream",
     "text": [
      "1\n",
      "3\n",
      "4\n",
      "5\n",
      "f\n"
     ]
    }
   ],
   "source": [
    "#list:以中括号命名\n",
    "xiaoxi_list = [1,3,4,5,'f']\n",
    "for i in xiaoxi_list:\n",
    "    print(i)"
   ]
  },
  {
   "cell_type": "code",
   "execution_count": 75,
   "metadata": {},
   "outputs": [],
   "source": [
    "#list\\tuple:他们的元素可以一个一个地被迭代、输出、运用、定位取值:"
   ]
  },
  {
   "cell_type": "code",
   "execution_count": 76,
   "metadata": {},
   "outputs": [
    {
     "name": "stdout",
     "output_type": "stream",
     "text": [
      "1\n",
      "2\n",
      "3\n",
      "4\n",
      "5\n",
      "6\n",
      "7\n",
      "8\n"
     ]
    }
   ],
   "source": [
    "#list的各种功能\n",
    "miao_list = [1,2,3,4,5,6,7]\n",
    "miao_list.append(8)#附加\n",
    "for i in miao_list:\n",
    "    print(i)"
   ]
  },
  {
   "cell_type": "code",
   "execution_count": 77,
   "metadata": {},
   "outputs": [
    {
     "name": "stdout",
     "output_type": "stream",
     "text": [
      "1\n",
      "10\n",
      "2\n",
      "3\n",
      "4\n",
      "5\n",
      "6\n",
      "7\n",
      "8\n"
     ]
    }
   ],
   "source": [
    "miao_list.insert(1,10)#在位置1添加数10\n",
    "for i in miao_list:\n",
    "    print(i)"
   ]
  },
  {
   "cell_type": "code",
   "execution_count": 78,
   "metadata": {},
   "outputs": [
    {
     "name": "stdout",
     "output_type": "stream",
     "text": [
      "[1, 2, 3, 4, 5, 6, 7, 8]\n"
     ]
    }
   ],
   "source": [
    "#list移除\n",
    "miao_list.remove(10)\n",
    "print(miao_list)"
   ]
  },
  {
   "cell_type": "code",
   "execution_count": 85,
   "metadata": {},
   "outputs": [
    {
     "name": "stdout",
     "output_type": "stream",
     "text": [
      "1\n",
      "8\n",
      "[1, 2, 3, 4, 5, 6]\n",
      "[6, 7, 8]\n",
      "[1, 2, 3, 4, 5]\n",
      "7\n",
      "4\n"
     ]
    }
   ],
   "source": [
    "#list索引\n",
    "print(miao_list[0])#整数第一\n",
    "print(miao_list[-1])#倒数第一\n",
    "print(miao_list[0:6])#0-6\n",
    "print(miao_list[-3:])#倒数第三至结束\n",
    "print(miao_list[:-3])#开始至倒数第三\n",
    "print(miao_list.index(8))#打印第几个索引是8\n",
    "miao_list = [1,1,1,1,2,3]\n",
    "print(miao_list.count(1))#计数"
   ]
  },
  {
   "cell_type": "code",
   "execution_count": 87,
   "metadata": {},
   "outputs": [
    {
     "name": "stdout",
     "output_type": "stream",
     "text": [
      "[1, 2, 2, 3, 3, 4, 4, 6, 9]\n"
     ]
    }
   ],
   "source": [
    "#list排序\n",
    "miao_list = [1,4,2,4,6,3,9,3,2]\n",
    "miao_list.sort()\n",
    "print(miao_list)"
   ]
  },
  {
   "cell_type": "code",
   "execution_count": 88,
   "metadata": {},
   "outputs": [
    {
     "name": "stdout",
     "output_type": "stream",
     "text": [
      "[9, 6, 4, 4, 3, 3, 2, 2, 1]\n"
     ]
    }
   ],
   "source": [
    "miao_list.sort(reverse=True)#逆序\n",
    "print(miao_list)"
   ]
  },
  {
   "cell_type": "code",
   "execution_count": 90,
   "metadata": {},
   "outputs": [
    {
     "name": "stdout",
     "output_type": "stream",
     "text": [
      "3\n"
     ]
    }
   ],
   "source": [
    "#多维list\n",
    "a = [[1,2,3],[2,4,3],[3,2,3]]\n",
    "print(a[1][2])"
   ]
  },
  {
   "cell_type": "code",
   "execution_count": 4,
   "metadata": {},
   "outputs": [
    {
     "name": "stdout",
     "output_type": "stream",
     "text": [
      "1\n",
      "2\n",
      "3\n"
     ]
    }
   ],
   "source": [
    "#字典的存档形式无需顺序\n",
    "#在同一个字典中, 并不需要所有的key或value有相同的形式。\n",
    "a_list = [1,2,3,4,5,6,7,8]\n",
    "a_dic = {1:2,2:3,3:4}\n",
    "b_dic = {'miao':1,'dog':2,'cat':3}\n",
    "print(b_dic['miao'])\n",
    "print(a_dic[1])\n",
    "c_dic = {'miao':1,2:3}\n",
    "print(c_dic[2])"
   ]
  },
  {
   "cell_type": "code",
   "execution_count": 1,
   "metadata": {},
   "outputs": [
    {
     "name": "stdout",
     "output_type": "stream",
     "text": [
      "1\n",
      "2\n"
     ]
    },
    {
     "data": {
      "text/plain": [
       "1"
      ]
     },
     "execution_count": 1,
     "metadata": {},
     "output_type": "execute_result"
    }
   ],
   "source": [
    "#字典还可以以更多样的形式出现，例如字典的元素可以是一个List，或者再是一个列表，再或者是一个function。\n",
    "#索引需要的项目时，只需要正确指定对应的key就可以了。\n",
    "def func():\n",
    "    print(1)\n",
    "    return print(2)\n",
    "p_dic = {'miao':1,'da':2,3:func()}\n",
    "p_dic[3]"
   ]
  },
  {
   "cell_type": "code",
   "execution_count": 2,
   "metadata": {},
   "outputs": [
    {
     "name": "stdout",
     "output_type": "stream",
     "text": [
      "time.struct_time(tm_year=2018, tm_mon=8, tm_mday=20, tm_hour=13, tm_min=58, tm_sec=0, tm_wday=0, tm_yday=232, tm_isdst=0)\n"
     ]
    }
   ],
   "source": [
    "import time \n",
    "#import 时间模块\n",
    "print(time.localtime())"
   ]
  },
  {
   "cell_type": "code",
   "execution_count": 3,
   "metadata": {},
   "outputs": [
    {
     "name": "stdout",
     "output_type": "stream",
     "text": [
      "time.struct_time(tm_year=2018, tm_mon=8, tm_mday=20, tm_hour=13, tm_min=58, tm_sec=23, tm_wday=0, tm_yday=232, tm_isdst=0)\n"
     ]
    }
   ],
   "source": [
    "import time as t\n",
    "print(t.localtime())"
   ]
  },
  {
   "cell_type": "code",
   "execution_count": 4,
   "metadata": {},
   "outputs": [
    {
     "name": "stdout",
     "output_type": "stream",
     "text": [
      "time.struct_time(tm_year=2018, tm_mon=8, tm_mday=20, tm_hour=13, tm_min=59, tm_sec=38, tm_wday=0, tm_yday=232, tm_isdst=0)\n",
      "1534744778.0628648\n"
     ]
    }
   ],
   "source": [
    "#只import自己想要的功能\n",
    "from time import time,localtime\n",
    "print(localtime())\n",
    "print(time())"
   ]
  },
  {
   "cell_type": "code",
   "execution_count": 6,
   "metadata": {},
   "outputs": [
    {
     "name": "stdout",
     "output_type": "stream",
     "text": [
      "time.struct_time(tm_year=2018, tm_mon=8, tm_mday=20, tm_hour=14, tm_min=0, tm_sec=32, tm_wday=0, tm_yday=232, tm_isdst=0)\n"
     ]
    }
   ],
   "source": [
    "#import 所有\n",
    "from time import *\n",
    "print(localtime())\n",
    "#不用再加前缀，像using namespace std;"
   ]
  },
  {
   "cell_type": "code",
   "execution_count": 9,
   "metadata": {},
   "outputs": [
    {
     "name": "stdout",
     "output_type": "stream",
     "text": [
      "Your new balance after year: 1 is 4.1616\n",
      "Your new balance after year: 2 is 4.244832\n",
      "Your new balance after year: 3 is 4.32972864\n",
      "Your new balance after year: 4 is 4.4163232128\n",
      "Your new balance after year: 5 is 4.504649677056\n",
      "your final year is 4.504649677056\n"
     ]
    }
   ],
   "source": [
    "import balance"
   ]
  },
  {
   "cell_type": "code",
   "execution_count": null,
   "metadata": {},
   "outputs": [],
   "source": [
    "#在Mac系统中，下载的python模块会被存储到外部路径site-packages，\n",
    "#同样，我们自己建的模块也可以放到这个路径，最后不会影响到自建模块的调用。\n"
   ]
  },
  {
   "cell_type": "code",
   "execution_count": 2,
   "metadata": {},
   "outputs": [
    {
     "name": "stdout",
     "output_type": "stream",
     "text": [
      "finish run.\n"
     ]
    }
   ],
   "source": [
    "a = True\n",
    "\n",
    "while a:\n",
    "    b = input(\"type something\")\n",
    "    if b == '1':\n",
    "        a = False\n",
    "    else:\n",
    "        pass\n",
    "print(\"finish run.\")"
   ]
  },
  {
   "cell_type": "code",
   "execution_count": null,
   "metadata": {},
   "outputs": [],
   "source": [
    "#break用法，在循环语句中，使用 break, \n",
    "#当符合跳出条件时，会直接结束循环，这是 break 和 True False 的区别。\n"
   ]
  },
  {
   "cell_type": "code",
   "execution_count": 5,
   "metadata": {},
   "outputs": [
    {
     "name": "stdout",
     "output_type": "stream",
     "text": [
      "still in while\n",
      "finish run\n"
     ]
    }
   ],
   "source": [
    "while True:\n",
    "    b= input('type somesthing:')\n",
    "    if b=='1':\n",
    "        break\n",
    "    else:\n",
    "        pass\n",
    "    print('still in while')\n",
    "print ('finish run')"
   ]
  },
  {
   "cell_type": "code",
   "execution_count": null,
   "metadata": {},
   "outputs": [],
   "source": [
    "#在代码中，满足b=1的条件时，因为使用了 continue , \n",
    "#python 不会执行 else 后面的代码，而会直接进入下一次循环。"
   ]
  },
  {
   "cell_type": "code",
   "execution_count": null,
   "metadata": {},
   "outputs": [],
   "source": [
    "while True:\n",
    "    b=input('input somesthing:')\n",
    "    if b=='1':\n",
    "       continue\n",
    "    else:\n",
    "        pass\n",
    "    print('still in while' )\n",
    "\n",
    "print ('finish run')"
   ]
  },
  {
   "cell_type": "code",
   "execution_count": null,
   "metadata": {},
   "outputs": [],
   "source": [
    "#错误处理\n",
    "#try:, except ... as ...:"
   ]
  },
  {
   "cell_type": "code",
   "execution_count": 2,
   "metadata": {},
   "outputs": [
    {
     "name": "stdout",
     "output_type": "stream",
     "text": [
      "[Errno 2] No such file or directory: 'miaodsfdfsa.txt'\n"
     ]
    }
   ],
   "source": [
    "try:\n",
    "    file=open('miaodsfdfsa.txt','r')  #会报错的代码\n",
    "except Exception as e:  # 将报错存储在 e 中\n",
    "    print(e)"
   ]
  },
  {
   "cell_type": "code",
   "execution_count": null,
   "metadata": {},
   "outputs": [],
   "source": [
    "#zip函数：\n",
    "#zip函数接受任意多个（包括0个和1个）序列作为参数，合并后返回一个tuple列表"
   ]
  },
  {
   "cell_type": "code",
   "execution_count": 4,
   "metadata": {},
   "outputs": [
    {
     "name": "stdout",
     "output_type": "stream",
     "text": [
      "[(1, 4), (2, 5), (3, 6)]\n"
     ]
    }
   ],
   "source": [
    "a = (1,2,3)\n",
    "b=(4,5,6)\n",
    "ab =zip(a,b)\n",
    "print(list(ab))"
   ]
  },
  {
   "cell_type": "code",
   "execution_count": 5,
   "metadata": {},
   "outputs": [
    {
     "name": "stdout",
     "output_type": "stream",
     "text": [
      "[(1, 4), (2, 5), (3, 6)]\n",
      "0.5 8\n",
      "1.0 10\n",
      "1.5 12\n"
     ]
    }
   ],
   "source": [
    "a=[1,2,3]\n",
    "b=[4,5,6]\n",
    "ab=zip(a,b)\n",
    "print(list(ab))\n",
    "for i,j in zip(a,b):\n",
    "     print(i/2,j*2)"
   ]
  },
  {
   "cell_type": "code",
   "execution_count": null,
   "metadata": {},
   "outputs": [],
   "source": [
    "#lambda定义一个简单的函数，实现简化代码的功能，看代码会更好理解。\n",
    "\n",
    "#fun = lambda x,y : x+y, 冒号前的x,y为自变量，冒号后x+y为具体运算。"
   ]
  },
  {
   "cell_type": "code",
   "execution_count": 6,
   "metadata": {},
   "outputs": [
    {
     "name": "stdout",
     "output_type": "stream",
     "text": [
      "3\n"
     ]
    }
   ],
   "source": [
    "fun= lambda x,y:x*y\n",
    "x=int(input('x='))    #这里要定义int整数，否则会默认为字符串\n",
    "y=int(input('y='))\n",
    "print(fun(x,y))"
   ]
  },
  {
   "cell_type": "code",
   "execution_count": null,
   "metadata": {},
   "outputs": [],
   "source": [
    "#map是把函数和参数绑定在一起。"
   ]
  },
  {
   "cell_type": "code",
   "execution_count": 10,
   "metadata": {},
   "outputs": [
    {
     "data": {
      "text/plain": [
       "[3]"
      ]
     },
     "execution_count": 10,
     "metadata": {},
     "output_type": "execute_result"
    }
   ],
   "source": [
    "def fun(x,y):\n",
    "    return x+y\n",
    "list(map(fun,[1],[2]))"
   ]
  },
  {
   "cell_type": "code",
   "execution_count": 9,
   "metadata": {},
   "outputs": [],
   "source": [
    "#加了list就能打印出来了"
   ]
  },
  {
   "cell_type": "code",
   "execution_count": 11,
   "metadata": {},
   "outputs": [
    {
     "data": {
      "text/plain": [
       "[4, 6]"
      ]
     },
     "execution_count": 11,
     "metadata": {},
     "output_type": "execute_result"
    }
   ],
   "source": [
    "list(map(fun,[1,2],[3,4]))"
   ]
  },
  {
   "cell_type": "code",
   "execution_count": 6,
   "metadata": {},
   "outputs": [
    {
     "data": {
      "text/plain": [
       "4381448264"
      ]
     },
     "execution_count": 6,
     "metadata": {},
     "output_type": "execute_result"
    }
   ],
   "source": [
    "#什么是id？一个对象的id值在CPython解释器里就代表它在内存中的`地址\n",
    "import copy\n",
    "a = [1,2,3]\n",
    "b = a\n",
    "id(a)"
   ]
  },
  {
   "cell_type": "code",
   "execution_count": 7,
   "metadata": {},
   "outputs": [
    {
     "data": {
      "text/plain": [
       "4381448264"
      ]
     },
     "execution_count": 7,
     "metadata": {},
     "output_type": "execute_result"
    }
   ],
   "source": [
    "id(b)"
   ]
  },
  {
   "cell_type": "code",
   "execution_count": 8,
   "metadata": {},
   "outputs": [
    {
     "data": {
      "text/plain": [
       "True"
      ]
     },
     "execution_count": 8,
     "metadata": {},
     "output_type": "execute_result"
    }
   ],
   "source": [
    "id(a) == id(b)"
   ]
  },
  {
   "cell_type": "code",
   "execution_count": 9,
   "metadata": {},
   "outputs": [
    {
     "name": "stdout",
     "output_type": "stream",
     "text": [
      "[22222, 2, 3]\n",
      "[22222, 2, 3]\n"
     ]
    }
   ],
   "source": [
    "b[0]=22222#此时，改变b的第一个值，也会导致a值改变。\n",
    "\n",
    "print(a)\n",
    "print(b)"
   ]
  },
  {
   "cell_type": "code",
   "execution_count": 13,
   "metadata": {},
   "outputs": [
    {
     "name": "stdout",
     "output_type": "stream",
     "text": [
      "4380883144\n",
      "4380211272\n",
      "False\n",
      "[1, 2, 3]\n",
      "[1, 2222, 3]\n"
     ]
    }
   ],
   "source": [
    "#当使用浅拷贝时:copy.copy ，python只是拷贝了最外围的对象本身，内部的元素都只是拷贝了一个引用而已。\n",
    "import copy\n",
    "a = [1,2,3]\n",
    "c=copy.copy(a)\n",
    "print(id(c))\n",
    "print(id(a))\n",
    "print(id(a)==id(c))\n",
    "\n",
    "c[1] = 2222\n",
    "print(a)\n",
    "print(c)"
   ]
  },
  {
   "cell_type": "code",
   "execution_count": 21,
   "metadata": {},
   "outputs": [
    {
     "name": "stdout",
     "output_type": "stream",
     "text": [
      "False\n",
      "True\n",
      "[1, 2, [3333, 5]]\n",
      "[1, 3, [3333, 5]]\n"
     ]
    }
   ],
   "source": [
    "#deepcopy对外围和内部元素都进行了拷贝对象本身，而不是对象的引用。\n",
    "\n",
    "\n",
    "#copy.copy()\n",
    "a=[1,2,[3,5]]  #第三个值为列表[3,4],即内部元素\n",
    "d=copy.copy(a) #浅拷贝a中的[3，4]内部元素的引用，非内部元素对象的本身\n",
    "print(id(a)==id(d))\n",
    "print(id(a[2])==id(d[2]))\n",
    "\n",
    "a[2][0]=3333  #改变a中内部原属列表中的第一个值\n",
    "a[1]=3\n",
    "print(d)             #这时d中的列表元素也会被改变\n",
    "#d[1]仍为2，内部对象d[2][0]变为了3333\n",
    "#copy.deepcopy()\n",
    "\n",
    "e=copy.deepcopy(a) #e为深拷贝了a\n",
    "a[2][0]=0 #改变a中内部元素列表第一个的值\n",
    "a[1]=4\n",
    "print(e)\n",
    "#因为是深拷贝，这时e中内部元素[]列表的值不会因为a中的值改变而改变\n",
    "\n",
    "#略迷！！！！！"
   ]
  },
  {
   "cell_type": "code",
   "execution_count": 22,
   "metadata": {},
   "outputs": [],
   "source": [
    "#pickle 是一个 python 中, 压缩/保存/提取 文件的模块.\n",
    "#保存一个结果，第二天继续加工等等\n",
    "#最一般的使用方式非常简单. \n",
    "#比如下面就是压缩并保存一个字典的方式. 字典、列表、变量！！！！！！都是能被保存的.\n",
    "import pickle\n",
    "\n",
    "a_dict = {'da': 111, 2: [23,1,4], '23': {1:2,'d':'sad'}}\n",
    "\n",
    "# pickle a variable to a file\n",
    "file = open('pickle_example.pickle', 'wb')\n",
    "pickle.dump(a_dict, file)#pickle：装土车 dump:装载\n",
    "file.close()\n",
    "#wb 是以写的形式打开 ‘pickle_example.pickle’ 这个文件, 然后 pickle.dump 你要保存的东西去这个打开的 file. \n",
    "#最后关闭 file 你就会发现你的文件目录里多了一个 ‘pickle_example.pickle’ 文件, 这就是那个字典了."
   ]
  },
  {
   "cell_type": "code",
   "execution_count": 23,
   "metadata": {},
   "outputs": [
    {
     "name": "stdout",
     "output_type": "stream",
     "text": [
      "{'da': 111, 2: [23, 1, 4], '23': {1: 2, 'd': 'sad'}}\n"
     ]
    }
   ],
   "source": [
    "#pickle提取\n",
    "#提取的时候相对简单点, 同样我们以读的形式打开那个文件, 然后 load 进一个 python 的变量.\n",
    "# reload a file to a variable\n",
    "with open('pickle_example.pickle', 'rb') as file:\n",
    "    a_dict1 =pickle.load(file)\n",
    "\n",
    "print(a_dict1)"
   ]
  },
  {
   "cell_type": "code",
   "execution_count": 24,
   "metadata": {},
   "outputs": [
    {
     "name": "stdout",
     "output_type": "stream",
     "text": [
      "{'a', 'c', 'b', 'd'}\n",
      "{'h', 'c', 'l', 'u', 'r', 'k', 'e', 'i', 'T', 'W', 's', 't', 'a', 'm', 'B', ' ', 'o'}\n",
      "{'h', 'c', 'l', 'u', 'r', 'k', 'e', 'd', 'i', 'T', 'W', 'b', 's', 't', 'a', 'm', 'B', ' ', 'o'}\n"
     ]
    }
   ],
   "source": [
    "#set\n",
    "#Set 最主要的功能就是寻找一个句子或者一个 list 当中不同的元素.set去除重复的元素\n",
    "char_list = ['a', 'b', 'c', 'c', 'd', 'd', 'd']\n",
    "\n",
    "sentence = 'Welcome Back to This Tutorial'\n",
    "\n",
    "print(set(char_list))\n",
    "# {'b', 'd', 'a', 'c'}\n",
    "\n",
    "print(set(sentence))\n",
    "# {'l', 'm', 'a', 'c', 't', 'r', 's', ' ', 'o', 'W', 'T', 'B', 'i', 'e', 'u', 'h', 'k'}\n",
    "\n",
    "print(set(char_list+ list(sentence)))\n",
    "# {'l', 'm', 'a', 'c', 't', 'r', 's', ' ', 'd', 'o', 'W', 'T', 'B', 'i', 'e', 'k', 'h', 'u', 'b'}"
   ]
  },
  {
   "cell_type": "code",
   "execution_count": 25,
   "metadata": {},
   "outputs": [
    {
     "name": "stdout",
     "output_type": "stream",
     "text": [
      "{'haha', 'hehe'}\n"
     ]
    }
   ],
   "source": [
    "new_list = [\"hehe\",\"haha\",\"hehe\"]\n",
    "#字符串元素也可以\n",
    "print(set(new_list))"
   ]
  },
  {
   "cell_type": "code",
   "execution_count": 33,
   "metadata": {},
   "outputs": [
    {
     "name": "stdout",
     "output_type": "stream",
     "text": [
      "{'c', 'x', 'd', 'b', 'a'}\n"
     ]
    }
   ],
   "source": [
    "#定义好一个 set 之后我们还可以对其添加需要的元素, \n",
    "#使用 add 就能添加某个元素. 但是不是每一个东西都能添加, 比如一个列表.\n",
    "unique_char = set(char_list)\n",
    "unique_char.add('x')\n",
    "#unique_char.add(['y', 'z']) this is wrong\n",
    "print(unique_char)\n"
   ]
  },
  {
   "cell_type": "code",
   "execution_count": 34,
   "metadata": {},
   "outputs": [
    {
     "name": "stdout",
     "output_type": "stream",
     "text": [
      "{'c', 'd', 'b', 'a'}\n",
      "{'c', 'b', 'a'}\n",
      "set()\n"
     ]
    }
   ],
   "source": [
    "#清除元素或set\n",
    "#清除一个元素可以用 remove 或者 discard, 而清除全部可以用 clear.\n",
    "unique_char.remove('x')\n",
    "print(unique_char)\n",
    "# {'b', 'd', 'c', 'a'}\n",
    "\n",
    "unique_char.discard('d')\n",
    "print(unique_char)\n",
    "# {'b', 'c', 'a'}\n",
    "\n",
    "unique_char.clear()\n",
    "print(unique_char)\n",
    "# set()"
   ]
  },
  {
   "cell_type": "code",
   "execution_count": 37,
   "metadata": {},
   "outputs": [
    {
     "name": "stdout",
     "output_type": "stream",
     "text": [
      "{'b', 'c'}\n",
      "{'a', 'e'}\n"
     ]
    }
   ],
   "source": [
    "#筛选操作\n",
    "#我们还能进行一些筛选操作, 比如对比另一个东西, 看看原来的 set 里有没有和他不同的 (difference).\n",
    "#或者对比另一个东西, 看看 set 里有没有相同的 (intersection).\n",
    "char_list = ['a', 'b', 'c', 'c', 'e']\n",
    "unique_char = set(char_list)\n",
    "print(unique_char.difference({'a', 'e', 'i'}))\n",
    "# {'b', 'd', 'c'}\n",
    "\n",
    "print(unique_char.intersection({'a', 'e', 'i'}))\n",
    "# {'a'}"
   ]
  },
  {
   "cell_type": "code",
   "execution_count": null,
   "metadata": {},
   "outputs": [],
   "source": []
  },
  {
   "cell_type": "code",
   "execution_count": null,
   "metadata": {},
   "outputs": [],
   "source": []
  }
 ],
 "metadata": {
  "kernelspec": {
   "display_name": "Python 3",
   "language": "python",
   "name": "python3"
  },
  "language_info": {
   "codemirror_mode": {
    "name": "ipython",
    "version": 3
   },
   "file_extension": ".py",
   "mimetype": "text/x-python",
   "name": "python",
   "nbconvert_exporter": "python",
   "pygments_lexer": "ipython3",
   "version": "3.6.4"
  }
 },
 "nbformat": 4,
 "nbformat_minor": 2
}
